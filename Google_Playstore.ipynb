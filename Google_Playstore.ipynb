{
 "cells": [
  {
   "cell_type": "markdown",
   "id": "de2b13b0-6def-4d34-9686-0913e5e67e3c",
   "metadata": {},
   "source": [
    "# **Google Play Store Data Cleaning & Preparation**\r\n",
    "\n",
    "This notebook focuses on cleaning and preparing a dataset of apps from the Google Play Store. The goal is to handle missing values, correct data types, and clean any inconsistencies to make the dataset suitable for analysis."
   ]
  },
  {
   "cell_type": "code",
   "execution_count": 1,
   "id": "727c8c11-ba45-4eee-a59d-5ee95c5d22ab",
   "metadata": {},
   "outputs": [],
   "source": [
    "import pandas as pd \n",
    "import numpy as np\n",
    "import re"
   ]
  },
  {
   "cell_type": "markdown",
   "id": "c3fc716c-01a1-4244-82f0-f2279ef91f2f",
   "metadata": {},
   "source": [
    "## 📥 Load Dataset\n",
    "Load the Google Play Store dataset into a Pandas DataFrame."
   ]
  },
  {
   "cell_type": "code",
   "execution_count": 3,
   "id": "72be3219-918a-473d-a864-127bac974770",
   "metadata": {},
   "outputs": [],
   "source": [
    "df= pd.read_csv(r\"C:\\Users\\HP\\Documents\\Google-Playstore.csv\",encoding= 'utf-8')"
   ]
  },
  {
   "cell_type": "markdown",
   "id": "41cddd20-558b-4711-a453-bf4fbbbd66b1",
   "metadata": {},
   "source": [
    "## Step 2: Explore the Dataset\n",
    "- Examine the dataset for missing values, duplicates, and incorrect data types."
   ]
  },
  {
   "cell_type": "code",
   "execution_count": 5,
   "id": "c2a48aa8-d16c-43d9-af25-f317c779b196",
   "metadata": {
    "scrolled": true
   },
   "outputs": [
    {
     "name": "stdout",
     "output_type": "stream",
     "text": [
      "<class 'pandas.core.frame.DataFrame'>\n",
      "RangeIndex: 2312944 entries, 0 to 2312943\n",
      "Data columns (total 24 columns):\n",
      " #   Column             Dtype  \n",
      "---  ------             -----  \n",
      " 0   App Name           object \n",
      " 1   App Id             object \n",
      " 2   Category           object \n",
      " 3   Rating             float64\n",
      " 4   Rating Count       float64\n",
      " 5   Installs           object \n",
      " 6   Minimum Installs   float64\n",
      " 7   Maximum Installs   int64  \n",
      " 8   Free               bool   \n",
      " 9   Price              float64\n",
      " 10  Currency           object \n",
      " 11  Size               object \n",
      " 12  Minimum Android    object \n",
      " 13  Developer Id       object \n",
      " 14  Developer Website  object \n",
      " 15  Developer Email    object \n",
      " 16  Released           object \n",
      " 17  Last Updated       object \n",
      " 18  Content Rating     object \n",
      " 19  Privacy Policy     object \n",
      " 20  Ad Supported       bool   \n",
      " 21  In App Purchases   bool   \n",
      " 22  Editors Choice     bool   \n",
      " 23  Scraped Time       object \n",
      "dtypes: bool(4), float64(4), int64(1), object(15)\n",
      "memory usage: 361.8+ MB\n"
     ]
    }
   ],
   "source": [
    "df.info()"
   ]
  },
  {
   "cell_type": "code",
   "execution_count": 7,
   "id": "b75e3564-3a5a-4bb1-be53-03f4f5e26be5",
   "metadata": {
    "scrolled": true
   },
   "outputs": [
    {
     "data": {
      "text/html": [
       "<div>\n",
       "<style scoped>\n",
       "    .dataframe tbody tr th:only-of-type {\n",
       "        vertical-align: middle;\n",
       "    }\n",
       "\n",
       "    .dataframe tbody tr th {\n",
       "        vertical-align: top;\n",
       "    }\n",
       "\n",
       "    .dataframe thead th {\n",
       "        text-align: right;\n",
       "    }\n",
       "</style>\n",
       "<table border=\"1\" class=\"dataframe\">\n",
       "  <thead>\n",
       "    <tr style=\"text-align: right;\">\n",
       "      <th></th>\n",
       "      <th>App Name</th>\n",
       "      <th>App Id</th>\n",
       "      <th>Category</th>\n",
       "      <th>Rating</th>\n",
       "      <th>Rating Count</th>\n",
       "      <th>Installs</th>\n",
       "      <th>Minimum Installs</th>\n",
       "      <th>Maximum Installs</th>\n",
       "      <th>Free</th>\n",
       "      <th>Price</th>\n",
       "      <th>...</th>\n",
       "      <th>Developer Website</th>\n",
       "      <th>Developer Email</th>\n",
       "      <th>Released</th>\n",
       "      <th>Last Updated</th>\n",
       "      <th>Content Rating</th>\n",
       "      <th>Privacy Policy</th>\n",
       "      <th>Ad Supported</th>\n",
       "      <th>In App Purchases</th>\n",
       "      <th>Editors Choice</th>\n",
       "      <th>Scraped Time</th>\n",
       "    </tr>\n",
       "  </thead>\n",
       "  <tbody>\n",
       "    <tr>\n",
       "      <th>0</th>\n",
       "      <td>Gakondo</td>\n",
       "      <td>com.ishakwe.gakondo</td>\n",
       "      <td>Adventure</td>\n",
       "      <td>0.0</td>\n",
       "      <td>0.0</td>\n",
       "      <td>10+</td>\n",
       "      <td>10.0</td>\n",
       "      <td>15</td>\n",
       "      <td>True</td>\n",
       "      <td>0.0</td>\n",
       "      <td>...</td>\n",
       "      <td>https://beniyizibyose.tk/#/</td>\n",
       "      <td>jean21101999@gmail.com</td>\n",
       "      <td>Feb 26, 2020</td>\n",
       "      <td>Feb 26, 2020</td>\n",
       "      <td>Everyone</td>\n",
       "      <td>https://beniyizibyose.tk/projects/</td>\n",
       "      <td>False</td>\n",
       "      <td>False</td>\n",
       "      <td>False</td>\n",
       "      <td>2021-06-15 20:19:35</td>\n",
       "    </tr>\n",
       "    <tr>\n",
       "      <th>1</th>\n",
       "      <td>Ampere Battery Info</td>\n",
       "      <td>com.webserveis.batteryinfo</td>\n",
       "      <td>Tools</td>\n",
       "      <td>4.4</td>\n",
       "      <td>64.0</td>\n",
       "      <td>5,000+</td>\n",
       "      <td>5000.0</td>\n",
       "      <td>7662</td>\n",
       "      <td>True</td>\n",
       "      <td>0.0</td>\n",
       "      <td>...</td>\n",
       "      <td>https://webserveis.netlify.app/</td>\n",
       "      <td>webserveis@gmail.com</td>\n",
       "      <td>May 21, 2020</td>\n",
       "      <td>May 06, 2021</td>\n",
       "      <td>Everyone</td>\n",
       "      <td>https://dev4phones.wordpress.com/licencia-de-uso/</td>\n",
       "      <td>True</td>\n",
       "      <td>False</td>\n",
       "      <td>False</td>\n",
       "      <td>2021-06-15 20:19:35</td>\n",
       "    </tr>\n",
       "    <tr>\n",
       "      <th>2</th>\n",
       "      <td>Vibook</td>\n",
       "      <td>com.doantiepvien.crm</td>\n",
       "      <td>Productivity</td>\n",
       "      <td>0.0</td>\n",
       "      <td>0.0</td>\n",
       "      <td>50+</td>\n",
       "      <td>50.0</td>\n",
       "      <td>58</td>\n",
       "      <td>True</td>\n",
       "      <td>0.0</td>\n",
       "      <td>...</td>\n",
       "      <td>NaN</td>\n",
       "      <td>vnacrewit@gmail.com</td>\n",
       "      <td>Aug 9, 2019</td>\n",
       "      <td>Aug 19, 2019</td>\n",
       "      <td>Everyone</td>\n",
       "      <td>https://www.vietnamairlines.com/vn/en/terms-an...</td>\n",
       "      <td>False</td>\n",
       "      <td>False</td>\n",
       "      <td>False</td>\n",
       "      <td>2021-06-15 20:19:35</td>\n",
       "    </tr>\n",
       "    <tr>\n",
       "      <th>3</th>\n",
       "      <td>Smart City Trichy Public Service Vehicles 17UC...</td>\n",
       "      <td>cst.stJoseph.ug17ucs548</td>\n",
       "      <td>Communication</td>\n",
       "      <td>5.0</td>\n",
       "      <td>5.0</td>\n",
       "      <td>10+</td>\n",
       "      <td>10.0</td>\n",
       "      <td>19</td>\n",
       "      <td>True</td>\n",
       "      <td>0.0</td>\n",
       "      <td>...</td>\n",
       "      <td>http://www.climatesmarttech.com/</td>\n",
       "      <td>climatesmarttech2@gmail.com</td>\n",
       "      <td>Sep 10, 2018</td>\n",
       "      <td>Oct 13, 2018</td>\n",
       "      <td>Everyone</td>\n",
       "      <td>NaN</td>\n",
       "      <td>True</td>\n",
       "      <td>False</td>\n",
       "      <td>False</td>\n",
       "      <td>2021-06-15 20:19:35</td>\n",
       "    </tr>\n",
       "    <tr>\n",
       "      <th>4</th>\n",
       "      <td>GROW.me</td>\n",
       "      <td>com.horodyski.grower</td>\n",
       "      <td>Tools</td>\n",
       "      <td>0.0</td>\n",
       "      <td>0.0</td>\n",
       "      <td>100+</td>\n",
       "      <td>100.0</td>\n",
       "      <td>478</td>\n",
       "      <td>True</td>\n",
       "      <td>0.0</td>\n",
       "      <td>...</td>\n",
       "      <td>http://www.horodyski.com.pl</td>\n",
       "      <td>rmilekhorodyski@gmail.com</td>\n",
       "      <td>Feb 21, 2020</td>\n",
       "      <td>Nov 12, 2018</td>\n",
       "      <td>Everyone</td>\n",
       "      <td>http://www.horodyski.com.pl</td>\n",
       "      <td>False</td>\n",
       "      <td>False</td>\n",
       "      <td>False</td>\n",
       "      <td>2021-06-15 20:19:35</td>\n",
       "    </tr>\n",
       "  </tbody>\n",
       "</table>\n",
       "<p>5 rows × 24 columns</p>\n",
       "</div>"
      ],
      "text/plain": [
       "                                            App Name  \\\n",
       "0                                            Gakondo   \n",
       "1                                Ampere Battery Info   \n",
       "2                                             Vibook   \n",
       "3  Smart City Trichy Public Service Vehicles 17UC...   \n",
       "4                                            GROW.me   \n",
       "\n",
       "                       App Id       Category  Rating  Rating Count Installs  \\\n",
       "0         com.ishakwe.gakondo      Adventure     0.0           0.0      10+   \n",
       "1  com.webserveis.batteryinfo          Tools     4.4          64.0   5,000+   \n",
       "2        com.doantiepvien.crm   Productivity     0.0           0.0      50+   \n",
       "3     cst.stJoseph.ug17ucs548  Communication     5.0           5.0      10+   \n",
       "4        com.horodyski.grower          Tools     0.0           0.0     100+   \n",
       "\n",
       "   Minimum Installs  Maximum Installs  Free  Price  ...  \\\n",
       "0              10.0                15  True    0.0  ...   \n",
       "1            5000.0              7662  True    0.0  ...   \n",
       "2              50.0                58  True    0.0  ...   \n",
       "3              10.0                19  True    0.0  ...   \n",
       "4             100.0               478  True    0.0  ...   \n",
       "\n",
       "                  Developer Website              Developer Email  \\\n",
       "0       https://beniyizibyose.tk/#/       jean21101999@gmail.com   \n",
       "1   https://webserveis.netlify.app/         webserveis@gmail.com   \n",
       "2                               NaN          vnacrewit@gmail.com   \n",
       "3  http://www.climatesmarttech.com/  climatesmarttech2@gmail.com   \n",
       "4       http://www.horodyski.com.pl    rmilekhorodyski@gmail.com   \n",
       "\n",
       "       Released  Last Updated Content Rating  \\\n",
       "0  Feb 26, 2020  Feb 26, 2020       Everyone   \n",
       "1  May 21, 2020  May 06, 2021       Everyone   \n",
       "2   Aug 9, 2019  Aug 19, 2019       Everyone   \n",
       "3  Sep 10, 2018  Oct 13, 2018       Everyone   \n",
       "4  Feb 21, 2020  Nov 12, 2018       Everyone   \n",
       "\n",
       "                                      Privacy Policy Ad Supported  \\\n",
       "0                 https://beniyizibyose.tk/projects/        False   \n",
       "1  https://dev4phones.wordpress.com/licencia-de-uso/         True   \n",
       "2  https://www.vietnamairlines.com/vn/en/terms-an...        False   \n",
       "3                                                NaN         True   \n",
       "4                        http://www.horodyski.com.pl        False   \n",
       "\n",
       "  In App Purchases Editors Choice         Scraped Time  \n",
       "0            False          False  2021-06-15 20:19:35  \n",
       "1            False          False  2021-06-15 20:19:35  \n",
       "2            False          False  2021-06-15 20:19:35  \n",
       "3            False          False  2021-06-15 20:19:35  \n",
       "4            False          False  2021-06-15 20:19:35  \n",
       "\n",
       "[5 rows x 24 columns]"
      ]
     },
     "execution_count": 7,
     "metadata": {},
     "output_type": "execute_result"
    }
   ],
   "source": [
    "df.head()"
   ]
  },
  {
   "cell_type": "markdown",
   "id": "63230d10-1400-4427-850d-f3fd764ef95d",
   "metadata": {},
   "source": [
    "## Step 3: Data Cleaning\r\n",
    "\r\n",
    "Clean and transform the dataset:\r\n",
    "\r\n",
    "- Remove or fill missing values  \r\n",
    "- Drop duplicates  \r\n",
    "- Convert columns to appropriate data types  \r\n",
    "- Clean text and numeric columns (e.g., remove symbols, ommas)\r\n"
   ]
  },
  {
   "cell_type": "code",
   "execution_count": 9,
   "id": "ac34fa97-bec3-4b66-bc59-8d03a0d82577",
   "metadata": {},
   "outputs": [
    {
     "data": {
      "text/plain": [
       "(2312944, 24)"
      ]
     },
     "execution_count": 9,
     "metadata": {},
     "output_type": "execute_result"
    }
   ],
   "source": [
    "df.shape"
   ]
  },
  {
   "cell_type": "markdown",
   "id": "d8de7540-7fd7-4e69-9e84-1a2b15cc7b85",
   "metadata": {},
   "source": [
    "🔎 Initial Exploration\n",
    "Explore the dataset structure and identify missing or duplicate values."
   ]
  },
  {
   "cell_type": "code",
   "execution_count": 11,
   "id": "67380134-a702-4c05-abaf-f210b105e904",
   "metadata": {
    "scrolled": true
   },
   "outputs": [
    {
     "data": {
      "text/plain": [
       "App Name                  5\n",
       "App Id                    0\n",
       "Category                  0\n",
       "Rating                22883\n",
       "Rating Count          22883\n",
       "Installs                107\n",
       "Minimum Installs        107\n",
       "Maximum Installs          0\n",
       "Free                      0\n",
       "Price                     0\n",
       "Currency                135\n",
       "Size                    196\n",
       "Minimum Android        6530\n",
       "Developer Id             33\n",
       "Developer Website    760835\n",
       "Developer Email          31\n",
       "Released              71053\n",
       "Last Updated              0\n",
       "Content Rating            0\n",
       "Privacy Policy       420953\n",
       "Ad Supported              0\n",
       "In App Purchases          0\n",
       "Editors Choice            0\n",
       "Scraped Time              0\n",
       "dtype: int64"
      ]
     },
     "execution_count": 11,
     "metadata": {},
     "output_type": "execute_result"
    }
   ],
   "source": [
    "df.isnull().sum()"
   ]
  },
  {
   "cell_type": "code",
   "execution_count": 13,
   "id": "39b217df-315b-499c-a315-dceebf2f5df8",
   "metadata": {},
   "outputs": [
    {
     "data": {
      "text/plain": [
       "Index(['App Name', 'App Id', 'Category', 'Rating', 'Rating Count', 'Installs',\n",
       "       'Minimum Installs', 'Maximum Installs', 'Free', 'Price', 'Currency',\n",
       "       'Size', 'Minimum Android', 'Developer Id', 'Developer Website',\n",
       "       'Developer Email', 'Released', 'Last Updated', 'Content Rating',\n",
       "       'Privacy Policy', 'Ad Supported', 'In App Purchases', 'Editors Choice',\n",
       "       'Scraped Time'],\n",
       "      dtype='object')"
      ]
     },
     "execution_count": 13,
     "metadata": {},
     "output_type": "execute_result"
    }
   ],
   "source": [
    "#Checks for the columns name in the dataframe \n",
    "df.columns"
   ]
  },
  {
   "cell_type": "code",
   "execution_count": 15,
   "id": "bf120c1d-326a-459a-80d1-2ec3d34d7143",
   "metadata": {},
   "outputs": [],
   "source": [
    "#Removes null values from the App Name column \n",
    "df = df.dropna(subset = ['App Name'])"
   ]
  },
  {
   "cell_type": "code",
   "execution_count": 17,
   "id": "2b381637-c5f6-4ab5-9516-da27d9df27ae",
   "metadata": {},
   "outputs": [],
   "source": [
    "# Removing null values from the install column\n",
    "df = df.dropna(subset = ['Installs'])"
   ]
  },
  {
   "cell_type": "code",
   "execution_count": 19,
   "id": "8f1c01ef-e1c6-4645-a566-f97850576576",
   "metadata": {},
   "outputs": [],
   "source": [
    "# Remove the + sign in the install values \n",
    "df['Installs'] = df['Installs']. apply(lambda x: x.replace('+', '') if '+' in str(x) else x)"
   ]
  },
  {
   "cell_type": "code",
   "execution_count": 21,
   "id": "41bee982-254d-4c52-8f59-a8623165163f",
   "metadata": {},
   "outputs": [],
   "source": [
    "#Remooves ',' in the install values\n",
    "df['Installs'] = df['Installs']. apply(lambda x: x.replace(',', '') if ',' in str(x) else x)"
   ]
  },
  {
   "cell_type": "code",
   "execution_count": 23,
   "id": "cd8bedcb-cf6b-4a61-b4fb-943c15191d95",
   "metadata": {},
   "outputs": [],
   "source": [
    "#Convert the dtype of installs from objects to int \n",
    "df['Installs'] = df['Installs']. astype('int64')"
   ]
  },
  {
   "cell_type": "code",
   "execution_count": 25,
   "id": "451ccd28-1221-4b6a-bf43-05ec3712523d",
   "metadata": {},
   "outputs": [],
   "source": [
    "def convert_size_to_numeric(size):\n",
    "    \"\"\"\n",
    "    Convert size values from string format (e.g., '15M', '1.2G', '500k') \n",
    "    to numeric format in bytes.\n",
    "\n",
    "    Parameters:\n",
    "    size (str or numeric): The size value from the dataset. Can be a string \n",
    "    with units ('k', 'M', 'G') or already numeric.\n",
    "\n",
    "    Returns:\n",
    "    float: The converted size value in bytes. Returns NaN if the value is \n",
    "    'Varies with device'.\n",
    "    \"\"\"\n",
    "    \n",
    "    if isinstance(size, str):  # Check if the input is a string\n",
    "        size = size.replace(',', '')  # Remove commas for consistency\n",
    "        \n",
    "        # Convert based on size unit\n",
    "        if 'k' in size:\n",
    "            return float(size.replace('k', '')) * 1024  # Convert KB to bytes\n",
    "        elif 'M' in size:\n",
    "            return float(size.replace('M', '')) * 1024 * 1024  # Convert MB to bytes\n",
    "        elif 'G' in size:\n",
    "            return float(size.replace('G', '')) * 1024 ** 3  # Convert GB to bytes\n",
    "        elif 'Varies with device' in size:\n",
    "            return np.nan  # Assign NaN for inconsistent values\n",
    "        else:\n",
    "            return float(size)  # If no unit, return as float\n",
    "    \n",
    "    return size  # If already numeric, return as is\n"
   ]
  },
  {
   "cell_type": "code",
   "execution_count": 27,
   "id": "485e8b94-d28a-42ca-9afd-130cabbdf1cd",
   "metadata": {},
   "outputs": [],
   "source": [
    "df.rename(columns={'Size': 'Size_in_bytes'}, inplace=True)"
   ]
  },
  {
   "cell_type": "code",
   "execution_count": 29,
   "id": "a23fdfc3-19ba-48ac-ace0-a40554f4cccb",
   "metadata": {},
   "outputs": [],
   "source": [
    "# Apply the function to convert size values to numeric format\n",
    "df['Size_in_bytes'] = df['Size_in_bytes'].apply(convert_size_to_numeric)"
   ]
  },
  {
   "cell_type": "code",
   "execution_count": 35,
   "id": "51e6c1b6-8e40-4f68-9700-61618f405d9a",
   "metadata": {},
   "outputs": [],
   "source": [
    "df['Size_MB'] = df['Size_in_bytes'] / (1024 * 1024)  # Convert bytes to MB\n",
    "df['Size_MB'] = df['Size_MB'].round(2)  # Round to 2 decimal places"
   ]
  },
  {
   "cell_type": "code",
   "execution_count": 37,
   "id": "604400f4-fd74-4bf3-96c7-f54c3708b9a8",
   "metadata": {},
   "outputs": [],
   "source": [
    "df['Released'] = pd.to_datetime(df['Released'], errors='coerce')"
   ]
  },
  {
   "cell_type": "code",
   "execution_count": 39,
   "id": "65fc4ba3-4b01-4095-843b-51825802f85c",
   "metadata": {},
   "outputs": [],
   "source": [
    "df['Last Updated'] = pd.to_datetime(df['Last Updated'], errors='coerce')"
   ]
  },
  {
   "cell_type": "code",
   "execution_count": 41,
   "id": "7dc06944-c4ec-4b2a-bbb4-64423a0a90d0",
   "metadata": {},
   "outputs": [],
   "source": [
    "#Filling in missing values \n",
    "# Use median where appropriate\n",
    "df['Rating'] = df['Rating'].fillna(df['Rating'].median())  # Approximate missing ratings\n",
    "df['Rating Count'] = df['Rating Count'].fillna(df['Rating Count'].median())  # No rating count = 0\n",
    "df['Size_in_bytes'] = df['Size_in_bytes'].fillna(df['Size_in_bytes'].median())  # Approximate missing sizes\n",
    "df['Released'] = df['Released'].fillna(df['Released'].median()) \n",
    "df['Currency'] = df['Currency'].fillna('Unknown')"
   ]
  },
  {
   "cell_type": "code",
   "execution_count": 43,
   "id": "cd747b8d-e398-4d18-ab05-6eb43fcc01f4",
   "metadata": {},
   "outputs": [],
   "source": [
    "df.drop(columns=['Scraped Time'], inplace=True, errors='ignore')"
   ]
  },
  {
   "cell_type": "code",
   "execution_count": 45,
   "id": "e18697fd-d9ce-46e5-8a8f-ae97b6987e6f",
   "metadata": {},
   "outputs": [],
   "source": [
    "df.drop(columns=[ 'Developer Id', 'Developer Website',\n",
    "       'Developer Email'], inplace=True, errors='ignore')"
   ]
  },
  {
   "cell_type": "code",
   "execution_count": 47,
   "id": "495edcdf-6f4c-429d-bdd1-a4075f3792b7",
   "metadata": {},
   "outputs": [],
   "source": [
    "df.drop(columns=['Privacy Policy'], inplace=True, errors='ignore')"
   ]
  },
  {
   "cell_type": "code",
   "execution_count": 49,
   "id": "beb1f161-3bb3-4e8c-a0b5-b7c276ea1fb0",
   "metadata": {},
   "outputs": [],
   "source": [
    "df.rename( columns = {'Free': 'Type'}, inplace = True) "
   ]
  },
  {
   "cell_type": "code",
   "execution_count": 51,
   "id": "e641e909-6690-4bfd-b3dd-b6d0f2c18214",
   "metadata": {},
   "outputs": [],
   "source": [
    "df['Type'] = df['Type'].replace({True: 'Free', False: 'Paid'})"
   ]
  },
  {
   "cell_type": "code",
   "execution_count": 53,
   "id": "b2856345-a687-429b-95c3-7ef3bab03e0d",
   "metadata": {},
   "outputs": [
    {
     "data": {
      "text/plain": [
       "App Name                0\n",
       "App Id                  0\n",
       "Category                0\n",
       "Rating                  0\n",
       "Rating Count            0\n",
       "Installs                0\n",
       "Minimum Installs        0\n",
       "Maximum Installs        0\n",
       "Type                    0\n",
       "Price                   0\n",
       "Currency                0\n",
       "Size_in_bytes           0\n",
       "Minimum Android      6530\n",
       "Released                0\n",
       "Last Updated            0\n",
       "Content Rating          0\n",
       "Ad Supported            0\n",
       "In App Purchases        0\n",
       "Editors Choice          0\n",
       "Size_MB             74905\n",
       "dtype: int64"
      ]
     },
     "execution_count": 53,
     "metadata": {},
     "output_type": "execute_result"
    }
   ],
   "source": [
    "df.isnull().sum()"
   ]
  },
  {
   "cell_type": "code",
   "execution_count": 55,
   "id": "529e4e2d-9d5a-4483-ab91-a3b177ca1a82",
   "metadata": {
    "scrolled": true
   },
   "outputs": [
    {
     "data": {
      "text/plain": [
       "array(['7.1 and up', '5.0 and up', '4.0.3 and up', '4.1 and up',\n",
       "       '6.0 and up', '4.4 and up', '4.0 and up', '4.2 and up',\n",
       "       '2.1 and up', '7.0 and up', '2.2 and up', '2.3 and up',\n",
       "       '4.3 and up', '5.1 and up', nan, '1.6 and up', '3.0 and up',\n",
       "       'Varies with device', '8.0 and up', '2.3.3 and up', '4.4W and up',\n",
       "       '3.2 and up', '1.5 and up', '4.0.3 - 7.1.1', '3.1 and up',\n",
       "       '2.0 and up', '1.0 and up', '1.1 and up', '2.0.1 and up',\n",
       "       '4.4 - 6.0', '2.1 - 4.4', '4.0 - 5.0', '2.0 - 2.3.4', '2.2 - 4.4',\n",
       "       '4.1 - 7.0', '4.1 - 6.0', '4.0 - 4.4W', '4.0 - 4.4', '4.0.3 - 7.0',\n",
       "       '2.3 - 5.0', '4.0 - 7.1.1', '4.1 - 7.1.1', '4.0 - 7.0',\n",
       "       '4.1 - 8.0', '4.0 - 6.0', '2.3 - 7.0', '4.0 - 8.0', '2.3 - 6.0',\n",
       "       '2.1 - 2.3.4', '3.0 - 4.1.1', '2.2 - 3.0', '2.0 - 8.0',\n",
       "       '4.0.3 - 8.0', '3.0 - 4.4W', '4.4 - 7.1.1', '4.4 - 8.0',\n",
       "       '4.0.3 - 6.0', '1.6 - 4.0.4', '8.0', '2.3 - 5.1', '2.1 - 7.1.1',\n",
       "       '2.3 - 4.4W', '4.4 - 7.0', '6.0 - 7.1.1', '2.3 - 4.4',\n",
       "       '2.2 - 4.0.4', '2.1 - 4.1.1', '3.0 - 8.0', '3.0 - 5.1',\n",
       "       '2.1 - 6.0', '6.0 - 8.0', '5.0 - 8.0', '4.1 - 5.1', '3.2 - 4.4',\n",
       "       '2.1 - 5.0', '4.1 - 4.3', '5.0 - 6.0', '5.1 - 7.1.1', '2.2 - 5.1',\n",
       "       '4.1 - 5.0', '2.3.3 - 4.4', '2.2 - 5.0', '2.2', '4.1 - 4.4',\n",
       "       '1.6 - 5.1', '4.2 - 7.1.1', '2.1 - 5.1', '1.6 - 4.4W',\n",
       "       '4.3 - 4.4W', '3.0 - 4.4', '2.1 - 3.1', '2.3 - 7.1.1',\n",
       "       '1.6 - 4.0.2', '4.0 - 4.0.4', '4.2 - 4.4W', '3.0 - 7.1.1',\n",
       "       '3.2 - 7.1.1', '3.0 - 6.0', '2.2 - 4.4W', '4.0.3 - 4.4',\n",
       "       '4.0.3 - 5.1', '6.0', '4.3', '1.1 - 4.4', '2.3.3 - 8.0',\n",
       "       '2.3.3 - 5.0', '2.2 - 6.0', '3.0 - 5.0', '2.3.3 - 2.3.4',\n",
       "       '1.5 - 2.1', '2.2 - 3.2', '5.0 - 7.1.1', '2.1 - 3.2',\n",
       "       '4.2 - 4.2.2', '2.3.3 - 5.1', '2.2 - 4.1.1', '1.6 - 4.4',\n",
       "       '4.2 - 4.3', '4.0 - 5.1', '1.6 - 7.0', '3.0 - 7.0', '1.0 - 6.0',\n",
       "       '2.3.3 - 4.0.4', '2.3 - 3.2', '4.3 - 8.0', '2.3 - 8.0',\n",
       "       '3.2 - 6.0', '2.3.3 - 7.1.1', '4.2 - 8.0', '2.2 - 4.3',\n",
       "       '3.2 - 4.1.1', '4.4 - 5.1', '2.3 - 4.1.1', '2.1 - 4.4W', '4.4',\n",
       "       '2.3.3 - 4.4W', '4.1 - 4.4W', '1.6 - 7.1.1', '2.2 - 4.2.2',\n",
       "       '4.3 - 5.1', '4.0.3 - 4.2.2', '2.2 - 2.3.4', '4.3 - 4.4',\n",
       "       '4.2 - 6.0', '4.4 - 4.4W', '2.3 - 4.0.2', '3.2 - 5.1', '7.0',\n",
       "       '3.0 - 3.2', '1.6 - 4.2.2', '5.1', '1.5 - 3.2', '2.2 - 8.0',\n",
       "       '1.6 - 2.1', '2.3.3 - 6.0'], dtype=object)"
      ]
     },
     "execution_count": 55,
     "metadata": {},
     "output_type": "execute_result"
    }
   ],
   "source": [
    "df['Minimum Android'].unique()"
   ]
  },
  {
   "cell_type": "code",
   "execution_count": 57,
   "id": "dbf4e1a3-4c07-43d3-8ec2-5381b8fcf166",
   "metadata": {},
   "outputs": [],
   "source": [
    "# Function to clean \"Minimum Android\"\n",
    "def clean_minimum_android(value):\n",
    "    if pd.isna(value) or value == \"Varies with device\":\n",
    "        return np.nan  # Convert missing and \"Varies with device\" to NaN\n",
    "    \n",
    "    value = str(value).split(\" and up\")[0]  # Remove \" and up\"\n",
    "    \n",
    "    if \" - \" in value:  # If range exists, take the lower bound\n",
    "        value = value.split(\" - \")[0]\n",
    "    \n",
    "    value = value.replace(\"W\", \"\").strip()  # Remove \"W\" and unnecessary spaces\n",
    "    \n",
    "    return value if value else np.nan  # Keep as string (object) instead of float\n",
    "\n",
    "# Apply function to dataset\n",
    "df['Minimum Android'] = df['Minimum Android'].apply(clean_minimum_android)"
   ]
  },
  {
   "cell_type": "code",
   "execution_count": 59,
   "id": "9fe90657-358b-4f44-8574-6ea940159ab8",
   "metadata": {},
   "outputs": [],
   "source": [
    "# Group by 'Category' and fill missing values with the most common value (mode)\n",
    "df['Minimum Android'] = df.groupby('Category')['Minimum Android'].transform(lambda x: x.fillna(x.mode()[0]))"
   ]
  },
  {
   "cell_type": "code",
   "execution_count": 61,
   "id": "afa3cef6-b54f-46af-9e50-496d7e36bea5",
   "metadata": {
    "scrolled": true
   },
   "outputs": [
    {
     "data": {
      "text/plain": [
       "App Name                0\n",
       "App Id                  0\n",
       "Category                0\n",
       "Rating                  0\n",
       "Rating Count            0\n",
       "Installs                0\n",
       "Minimum Installs        0\n",
       "Maximum Installs        0\n",
       "Type                    0\n",
       "Price                   0\n",
       "Currency                0\n",
       "Size_in_bytes           0\n",
       "Minimum Android         0\n",
       "Released                0\n",
       "Last Updated            0\n",
       "Content Rating          0\n",
       "Ad Supported            0\n",
       "In App Purchases        0\n",
       "Editors Choice          0\n",
       "Size_MB             74905\n",
       "dtype: int64"
      ]
     },
     "execution_count": 61,
     "metadata": {},
     "output_type": "execute_result"
    }
   ],
   "source": [
    "df.isnull().sum()"
   ]
  },
  {
   "cell_type": "code",
   "execution_count": 63,
   "id": "43b989dc-9d40-4d17-aaaa-2212daa93972",
   "metadata": {},
   "outputs": [
    {
     "data": {
      "text/plain": [
       "0"
      ]
     },
     "execution_count": 63,
     "metadata": {},
     "output_type": "execute_result"
    }
   ],
   "source": [
    "df.duplicated().sum()"
   ]
  },
  {
   "cell_type": "code",
   "execution_count": 65,
   "id": "1bab4a3d-256d-417b-8e84-ab6e4954223d",
   "metadata": {},
   "outputs": [],
   "source": [
    "df.rename(columns={\n",
    "    'App Name': 'App_Name',\n",
    "    'App Id': 'App_Id',\n",
    "    'Category': 'Category',\n",
    "    'Rating': 'Rating',\n",
    "    'Rating Count': 'Rating_Count',\n",
    "    'Installs': 'Installs',\n",
    "    'Minimum Installs': 'Minimum_Installs',\n",
    "    'Maximum Installs': 'Maximum_Installs',\n",
    "    'Type': 'Type',\n",
    "    'Price': 'Price',\n",
    "    'Currency': 'Currency',\n",
    "    'Minimum Android': 'Minimum_Android',\n",
    "    'Released': 'Released',\n",
    "    'Last Updated': 'Last_Updated',\n",
    "    'Content Rating': 'Content_Rating',\n",
    "    'Ad Supported': 'Ad_Supported',\n",
    "    'In App Purchases': 'In_App_Purchases',\n",
    "    'Editors Choice': 'Editors_Choice'\n",
    "}, inplace=True)\n"
   ]
  },
  {
   "cell_type": "code",
   "execution_count": 67,
   "id": "e51d112a-f18b-4437-ba4c-b6a930c1fe89",
   "metadata": {},
   "outputs": [
    {
     "data": {
      "text/html": [
       "<div>\n",
       "<style scoped>\n",
       "    .dataframe tbody tr th:only-of-type {\n",
       "        vertical-align: middle;\n",
       "    }\n",
       "\n",
       "    .dataframe tbody tr th {\n",
       "        vertical-align: top;\n",
       "    }\n",
       "\n",
       "    .dataframe thead th {\n",
       "        text-align: right;\n",
       "    }\n",
       "</style>\n",
       "<table border=\"1\" class=\"dataframe\">\n",
       "  <thead>\n",
       "    <tr style=\"text-align: right;\">\n",
       "      <th></th>\n",
       "      <th>App_Name</th>\n",
       "      <th>App_Id</th>\n",
       "      <th>Category</th>\n",
       "      <th>Rating</th>\n",
       "      <th>Rating_Count</th>\n",
       "      <th>Installs</th>\n",
       "      <th>Minimum_Installs</th>\n",
       "      <th>Maximum_Installs</th>\n",
       "      <th>Type</th>\n",
       "      <th>Price</th>\n",
       "      <th>Currency</th>\n",
       "      <th>Size_in_bytes</th>\n",
       "      <th>Minimum_Android</th>\n",
       "      <th>Released</th>\n",
       "      <th>Last_Updated</th>\n",
       "      <th>Content_Rating</th>\n",
       "      <th>Ad_Supported</th>\n",
       "      <th>In_App_Purchases</th>\n",
       "      <th>Editors_Choice</th>\n",
       "      <th>Size_MB</th>\n",
       "    </tr>\n",
       "  </thead>\n",
       "  <tbody>\n",
       "    <tr>\n",
       "      <th>0</th>\n",
       "      <td>Gakondo</td>\n",
       "      <td>com.ishakwe.gakondo</td>\n",
       "      <td>Adventure</td>\n",
       "      <td>0.0</td>\n",
       "      <td>0.0</td>\n",
       "      <td>10</td>\n",
       "      <td>10.0</td>\n",
       "      <td>15</td>\n",
       "      <td>Free</td>\n",
       "      <td>0.0</td>\n",
       "      <td>USD</td>\n",
       "      <td>10485760.0</td>\n",
       "      <td>7.1</td>\n",
       "      <td>2020-02-26</td>\n",
       "      <td>2020-02-26</td>\n",
       "      <td>Everyone</td>\n",
       "      <td>False</td>\n",
       "      <td>False</td>\n",
       "      <td>False</td>\n",
       "      <td>10.0</td>\n",
       "    </tr>\n",
       "    <tr>\n",
       "      <th>1</th>\n",
       "      <td>Ampere Battery Info</td>\n",
       "      <td>com.webserveis.batteryinfo</td>\n",
       "      <td>Tools</td>\n",
       "      <td>4.4</td>\n",
       "      <td>64.0</td>\n",
       "      <td>5000</td>\n",
       "      <td>5000.0</td>\n",
       "      <td>7662</td>\n",
       "      <td>Free</td>\n",
       "      <td>0.0</td>\n",
       "      <td>USD</td>\n",
       "      <td>3040870.4</td>\n",
       "      <td>5.0</td>\n",
       "      <td>2020-05-21</td>\n",
       "      <td>2021-05-06</td>\n",
       "      <td>Everyone</td>\n",
       "      <td>True</td>\n",
       "      <td>False</td>\n",
       "      <td>False</td>\n",
       "      <td>2.9</td>\n",
       "    </tr>\n",
       "    <tr>\n",
       "      <th>2</th>\n",
       "      <td>Vibook</td>\n",
       "      <td>com.doantiepvien.crm</td>\n",
       "      <td>Productivity</td>\n",
       "      <td>0.0</td>\n",
       "      <td>0.0</td>\n",
       "      <td>50</td>\n",
       "      <td>50.0</td>\n",
       "      <td>58</td>\n",
       "      <td>Free</td>\n",
       "      <td>0.0</td>\n",
       "      <td>USD</td>\n",
       "      <td>3879731.2</td>\n",
       "      <td>4.0.3</td>\n",
       "      <td>2019-08-09</td>\n",
       "      <td>2019-08-19</td>\n",
       "      <td>Everyone</td>\n",
       "      <td>False</td>\n",
       "      <td>False</td>\n",
       "      <td>False</td>\n",
       "      <td>3.7</td>\n",
       "    </tr>\n",
       "    <tr>\n",
       "      <th>3</th>\n",
       "      <td>Smart City Trichy Public Service Vehicles 17UC...</td>\n",
       "      <td>cst.stJoseph.ug17ucs548</td>\n",
       "      <td>Communication</td>\n",
       "      <td>5.0</td>\n",
       "      <td>5.0</td>\n",
       "      <td>10</td>\n",
       "      <td>10.0</td>\n",
       "      <td>19</td>\n",
       "      <td>Free</td>\n",
       "      <td>0.0</td>\n",
       "      <td>USD</td>\n",
       "      <td>1887436.8</td>\n",
       "      <td>4.0.3</td>\n",
       "      <td>2018-09-10</td>\n",
       "      <td>2018-10-13</td>\n",
       "      <td>Everyone</td>\n",
       "      <td>True</td>\n",
       "      <td>False</td>\n",
       "      <td>False</td>\n",
       "      <td>1.8</td>\n",
       "    </tr>\n",
       "    <tr>\n",
       "      <th>4</th>\n",
       "      <td>GROW.me</td>\n",
       "      <td>com.horodyski.grower</td>\n",
       "      <td>Tools</td>\n",
       "      <td>0.0</td>\n",
       "      <td>0.0</td>\n",
       "      <td>100</td>\n",
       "      <td>100.0</td>\n",
       "      <td>478</td>\n",
       "      <td>Free</td>\n",
       "      <td>0.0</td>\n",
       "      <td>USD</td>\n",
       "      <td>6501171.2</td>\n",
       "      <td>4.1</td>\n",
       "      <td>2020-02-21</td>\n",
       "      <td>2018-11-12</td>\n",
       "      <td>Everyone</td>\n",
       "      <td>False</td>\n",
       "      <td>False</td>\n",
       "      <td>False</td>\n",
       "      <td>6.2</td>\n",
       "    </tr>\n",
       "  </tbody>\n",
       "</table>\n",
       "</div>"
      ],
      "text/plain": [
       "                                            App_Name  \\\n",
       "0                                            Gakondo   \n",
       "1                                Ampere Battery Info   \n",
       "2                                             Vibook   \n",
       "3  Smart City Trichy Public Service Vehicles 17UC...   \n",
       "4                                            GROW.me   \n",
       "\n",
       "                       App_Id       Category  Rating  Rating_Count  Installs  \\\n",
       "0         com.ishakwe.gakondo      Adventure     0.0           0.0        10   \n",
       "1  com.webserveis.batteryinfo          Tools     4.4          64.0      5000   \n",
       "2        com.doantiepvien.crm   Productivity     0.0           0.0        50   \n",
       "3     cst.stJoseph.ug17ucs548  Communication     5.0           5.0        10   \n",
       "4        com.horodyski.grower          Tools     0.0           0.0       100   \n",
       "\n",
       "   Minimum_Installs  Maximum_Installs  Type  Price Currency  Size_in_bytes  \\\n",
       "0              10.0                15  Free    0.0      USD     10485760.0   \n",
       "1            5000.0              7662  Free    0.0      USD      3040870.4   \n",
       "2              50.0                58  Free    0.0      USD      3879731.2   \n",
       "3              10.0                19  Free    0.0      USD      1887436.8   \n",
       "4             100.0               478  Free    0.0      USD      6501171.2   \n",
       "\n",
       "  Minimum_Android   Released Last_Updated Content_Rating  Ad_Supported  \\\n",
       "0             7.1 2020-02-26   2020-02-26       Everyone         False   \n",
       "1             5.0 2020-05-21   2021-05-06       Everyone          True   \n",
       "2           4.0.3 2019-08-09   2019-08-19       Everyone         False   \n",
       "3           4.0.3 2018-09-10   2018-10-13       Everyone          True   \n",
       "4             4.1 2020-02-21   2018-11-12       Everyone         False   \n",
       "\n",
       "   In_App_Purchases  Editors_Choice  Size_MB  \n",
       "0             False           False     10.0  \n",
       "1             False           False      2.9  \n",
       "2             False           False      3.7  \n",
       "3             False           False      1.8  \n",
       "4             False           False      6.2  "
      ]
     },
     "execution_count": 67,
     "metadata": {},
     "output_type": "execute_result"
    }
   ],
   "source": [
    "df.head()"
   ]
  },
  {
   "cell_type": "code",
   "execution_count": 69,
   "id": "65422def-14ef-494a-9c17-80f025a2d9a7",
   "metadata": {},
   "outputs": [
    {
     "data": {
      "text/plain": [
       "(2312832, 20)"
      ]
     },
     "execution_count": 69,
     "metadata": {},
     "output_type": "execute_result"
    }
   ],
   "source": [
    "df.shape "
   ]
  },
  {
   "cell_type": "code",
   "execution_count": 75,
   "id": "8324a6b3-829d-4795-bad8-b0288fda4bfc",
   "metadata": {},
   "outputs": [],
   "source": [
    "Cleaned_dataset = df.to_csv(r\"C:\\Users\\HP\\Documents\\Google_playstore_dataset_cleaned.csv\", index = False)"
   ]
  },
  {
   "cell_type": "markdown",
   "id": "1c0ab2a8-2d25-4d3e-b311-6f89be0b94ce",
   "metadata": {},
   "source": [
    "## ✅ Summary\r\n",
    "\r\n",
    "- Loaded and explored the dataset.  \r\n",
    "- Handled missing values and duplicates.  \r\n",
    "- Cleaned and converted data types.  \r\n",
    "- Transformed columns for better usabiliy.  \r\n",
    "\r\n",
    "The dataset has been cleaned by handling missing values, fixing data types, and formatting columns. It's now ready for further analysis or moeling.\r\n"
   ]
  }
 ],
 "metadata": {
  "kernelspec": {
   "display_name": "Python 3 (ipykernel)",
   "language": "python",
   "name": "python3"
  },
  "language_info": {
   "codemirror_mode": {
    "name": "ipython",
    "version": 3
   },
   "file_extension": ".py",
   "mimetype": "text/x-python",
   "name": "python",
   "nbconvert_exporter": "python",
   "pygments_lexer": "ipython3",
   "version": "3.12.4"
  }
 },
 "nbformat": 4,
 "nbformat_minor": 5
}
